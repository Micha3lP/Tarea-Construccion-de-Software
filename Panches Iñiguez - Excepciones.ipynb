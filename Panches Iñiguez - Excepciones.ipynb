{
  "nbformat": 4,
  "nbformat_minor": 0,
  "metadata": {
    "colab": {
      "name": "Panches Iñiguez - Copia de Excepciones.ipynb",
      "provenance": [],
      "collapsed_sections": [],
      "include_colab_link": true
    },
    "kernelspec": {
      "name": "python3",
      "display_name": "Python 3"
    },
    "language_info": {
      "name": "python"
    }
  },
  "cells": [
    {
      "cell_type": "markdown",
      "metadata": {
        "id": "view-in-github",
        "colab_type": "text"
      },
      "source": [
        "<a href=\"https://colab.research.google.com/github/Micha3lP/Tarea-Construccion-de-Software/blob/main/Panches%20I%C3%B1iguez%20-%20Excepciones.ipynb\" target=\"_parent\"><img src=\"https://colab.research.google.com/assets/colab-badge.svg\" alt=\"Open In Colab\"/></a>"
      ]
    },
    {
      "cell_type": "markdown",
      "source": [
        "## Manejar ZeroDivisionError en Python\n"
      ],
      "metadata": {
        "id": "uo6cTgOoN-UR"
      }
    },
    {
      "cell_type": "code",
      "execution_count": null,
      "metadata": {
        "id": "E4RkxgKRNgsv"
      },
      "outputs": [],
      "source": [
        "def dividir(num,div):\n",
        "  try:\n",
        "    return num/div\n",
        "    print(res)\n",
        "  except ZeroDivisionError:\n",
        "    print(\"Error - No puedes dividir por cero\")\n",
        "  "
      ]
    },
    {
      "cell_type": "code",
      "source": [
        "dividir(2,0)"
      ],
      "metadata": {
        "id": "SASNHxFbNr8r",
        "outputId": "da83e51a-5fff-4407-d2ad-3505bd19f6bf",
        "colab": {
          "base_uri": "https://localhost:8080/"
        }
      },
      "execution_count": null,
      "outputs": [
        {
          "output_type": "stream",
          "name": "stdout",
          "text": [
            "Error - No puedes dividir por cero\n"
          ]
        }
      ]
    }
  ]
}